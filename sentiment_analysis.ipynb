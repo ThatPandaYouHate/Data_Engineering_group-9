{
 "cells": [
  {
   "cell_type": "markdown",
   "id": "feff99ca",
   "metadata": {},
   "source": [
    "# Analysis of Reddit comments based on TF-IDF using PySpark"
   ]
  },
  {
   "cell_type": "code",
   "execution_count": 1,
   "id": "59fa50b6",
   "metadata": {},
   "outputs": [],
   "source": [
    "from pyspark.sql import SparkSession, SQLContext\n",
    "import time\n",
    "from pyspark.sql.functions import *\n",
    "from pyspark.sql.types import *\n",
    "import matplotlib.pyplot as plt\n",
    "from pyspark.ml.feature import RegexTokenizer, StopWordsRemover, HashingTF, IDF\n",
    "import numpy as np\n",
    "from pyspark.ml.classification import LogisticRegression\n",
    "from pyspark.ml.evaluation import BinaryClassificationEvaluator"
   ]
  },
  {
   "cell_type": "markdown",
   "id": "a2b3f22f",
   "metadata": {},
   "source": [
    "## Connnect to Spark cluster and load data"
   ]
  },
  {
   "cell_type": "code",
   "execution_count": 2,
   "id": "c599569f",
   "metadata": {},
   "outputs": [
    {
     "name": "stderr",
     "output_type": "stream",
     "text": [
      "Setting default log level to \"WARN\".\n",
      "To adjust logging level use sc.setLogLevel(newLevel). For SparkR, use setLogLevel(newLevel).\n"
     ]
    },
    {
     "name": "stdout",
     "output_type": "stream",
     "text": [
      "23/03/14 17:06:54 WARN NativeCodeLoader: Unable to load native-hadoop library for your platform... using builtin-java classes where applicable\n"
     ]
    },
    {
     "name": "stderr",
     "output_type": "stream",
     "text": [
      "/home/ubuntu/.local/lib/python3.10/site-packages/pyspark/sql/context.py:112: FutureWarning: Deprecated in 3.0.0. Use SparkSession.builder.getOrCreate() instead.\n",
      "  warnings.warn(\n"
     ]
    }
   ],
   "source": [
    "spark_session = SparkSession.builder\\\n",
    "    .master(\"spark://192.168.2.41:7077\")\\\n",
    "    .appName(\"sentiment analysis\")\\\n",
    "    .config(\"spark.dynamicAllocation.enabled\", True)\\\n",
    "    .config(\"spark.dynamicAllocation.shuffleTracking.enabled\",True)\\\n",
    "    .config(\"spark.shuffle.service.enabled\", False)\\\n",
    "    .config(\"spark.dynamicAllocation.executorIdleTimeout\",\"30s\")\\\n",
    "    .config(\"spark.cores.max\", 8)\\\n",
    "    .getOrCreate()\n",
    "\n",
    "sql_context = SQLContext(spark_session.sparkContext)"
   ]
  },
  {
   "cell_type": "code",
   "execution_count": 3,
   "id": "6836530f",
   "metadata": {},
   "outputs": [
    {
     "name": "stderr",
     "output_type": "stream",
     "text": [
      "                                                                                \r"
     ]
    }
   ],
   "source": [
    "# Loads the Reddit dataset containing comments as JSON documents from HDFS into a DataFrame \n",
    "# and stores it in cache memory to increase speed.\n",
    "comments = sql_context.read.json('hdfs://192.168.2.245:9000/group-9/RC_2011-01').cache()"
   ]
  },
  {
   "cell_type": "code",
   "execution_count": 4,
   "id": "da049f39",
   "metadata": {},
   "outputs": [],
   "source": [
    "# Initialize timer\n",
    "start_time = time.process_time()"
   ]
  },
  {
   "cell_type": "markdown",
   "id": "0eef7bc3",
   "metadata": {},
   "source": [
    "## Data exploration"
   ]
  },
  {
   "cell_type": "code",
   "execution_count": 5,
   "id": "30153456",
   "metadata": {},
   "outputs": [
    {
     "name": "stdout",
     "output_type": "stream",
     "text": [
      "root\n",
      " |-- archived: boolean (nullable = true)\n",
      " |-- author: string (nullable = true)\n",
      " |-- author_flair_css_class: string (nullable = true)\n",
      " |-- author_flair_text: string (nullable = true)\n",
      " |-- body: string (nullable = true)\n",
      " |-- controversiality: long (nullable = true)\n",
      " |-- created_utc: string (nullable = true)\n",
      " |-- distinguished: string (nullable = true)\n",
      " |-- downs: long (nullable = true)\n",
      " |-- edited: string (nullable = true)\n",
      " |-- gilded: long (nullable = true)\n",
      " |-- id: string (nullable = true)\n",
      " |-- link_id: string (nullable = true)\n",
      " |-- name: string (nullable = true)\n",
      " |-- parent_id: string (nullable = true)\n",
      " |-- retrieved_on: long (nullable = true)\n",
      " |-- score: long (nullable = true)\n",
      " |-- score_hidden: boolean (nullable = true)\n",
      " |-- subreddit: string (nullable = true)\n",
      " |-- subreddit_id: string (nullable = true)\n",
      " |-- ups: long (nullable = true)\n",
      "\n"
     ]
    }
   ],
   "source": [
    "# Prints the schema of the Reddit comments. \n",
    "comments.printSchema()"
   ]
  },
  {
   "cell_type": "code",
   "execution_count": 6,
   "id": "ae862cfc",
   "metadata": {},
   "outputs": [],
   "source": [
    "# Removes comments without an author. \n",
    "comments = comments.filter(col('author') != '[deleted]')"
   ]
  },
  {
   "cell_type": "code",
   "execution_count": 7,
   "id": "bc6cd379",
   "metadata": {},
   "outputs": [],
   "source": [
    "# Extracts the body and score of the of the Reddit comments. \n",
    "comments = comments.select(col('body'), col('score'))"
   ]
  },
  {
   "cell_type": "code",
   "execution_count": 8,
   "id": "3bc936ad",
   "metadata": {},
   "outputs": [
    {
     "name": "stderr",
     "output_type": "stream",
     "text": [
      "                                                                                \r"
     ]
    }
   ],
   "source": [
    "# Spark to Pandas dataframe\n",
    "pandas_converted = comments.groupBy('score').agg(count('body').alias('count')).sort('score').toPandas()"
   ]
  },
  {
   "cell_type": "code",
   "execution_count": 9,
   "id": "759a37c6",
   "metadata": {},
   "outputs": [
    {
     "data": {
      "image/png": "[encoded data removed]",
      "text/plain": [
       "<Figure size 640x480 with 1 Axes>"
      ]
     },
     "metadata": {},
     "output_type": "display_data"
    }
   ],
   "source": [
    "# Plots the scores of all the Reddit comments.\n",
    "#pandas_converted.plot.bar(x='score', y='count', legend=None)\n",
    "pandas_converted['count'].plot(kind='hist')\n",
    "plt.title('Scores of Reddit comments')\n",
    "plt.ylabel('Number of Reddit comments')\n",
    "plt.xlabel('Score')\n",
    "plt.show()"
   ]
  },
  {
   "cell_type": "markdown",
   "id": "0881745e",
   "metadata": {},
   "source": [
    "## Compute sentiments"
   ]
  },
  {
   "cell_type": "code",
   "execution_count": 10,
   "id": "73ccc185",
   "metadata": {},
   "outputs": [
    {
     "name": "stderr",
     "output_type": "stream",
     "text": [
      "\r",
      "[Stage 9:>                                                          (0 + 1) / 1]\r"
     ]
    },
    {
     "name": "stdout",
     "output_type": "stream",
     "text": [
      "+--------------------+---------+\n",
      "|                body|sentiment|\n",
      "+--------------------+---------+\n",
      "|They should add t...|        1|\n",
      "|Beta has nothing ...|        1|\n",
      "|&gt;Actually perh...|        1|\n",
      "|So many votes, an...|        1|\n",
      "|Heee, I just imag...|        1|\n",
      "|I love the idea. ...|        1|\n",
      "|&gt;turned out to...|        0|\n",
      "|Upvoting because ...|        0|\n",
      "|I have the same r...|        1|\n",
      "|I'm female. Ergo,...|        1|\n",
      "|I'm black and I l...|        1|\n",
      "|One benefit is it...|        1|\n",
      "|If scoped correct...|        1|\n",
      "|The issue is that...|        1|\n",
      "|Just ask me, I ca...|        1|\n",
      "|I would suggest c...|        1|\n",
      "|You are correct, ...|        1|\n",
      "|Dude, don't screw...|        0|\n",
      "|Why does he start...|        1|\n",
      "|So why is that an...|        0|\n",
      "+--------------------+---------+\n",
      "only showing top 20 rows\n",
      "\n"
     ]
    },
    {
     "name": "stderr",
     "output_type": "stream",
     "text": [
      "\r",
      "                                                                                \r"
     ]
    }
   ],
   "source": [
    "# Converts the score to either of the 2 sentiments: 0 (negative), or 1 (positive).\n",
    "def sentiment(score):\n",
    "    if score < 0:\n",
    "        return 0\n",
    "    if score > 0:\n",
    "        return 1\n",
    "\n",
    "# Defines an UDF for the sentiment() function\n",
    "udf_sentiment = udf(lambda score: sentiment(score), IntegerType())\n",
    "\n",
    "# Calculates the sentiment for each score. \n",
    "comments = comments.filter(col('score') != 0).select(col('body'), udf_sentiment(col('score')).alias('sentiment'))\n",
    "\n",
    "comments.show()"
   ]
  },
  {
   "cell_type": "markdown",
   "id": "c21ad37a",
   "metadata": {},
   "source": [
    "## Data visualization"
   ]
  },
  {
   "cell_type": "code",
   "execution_count": 11,
   "id": "9efdb122",
   "metadata": {},
   "outputs": [
    {
     "name": "stderr",
     "output_type": "stream",
     "text": [
      "                                                                                \r"
     ]
    },
    {
     "data": {
      "image/png": "[encoded data removed]",
      "text/plain": [
       "<Figure size 640x480 with 1 Axes>"
      ]
     },
     "metadata": {},
     "output_type": "display_data"
    }
   ],
   "source": [
    "sentiments = comments.groupBy('sentiment').agg(count('body').alias('count')).sort('sentiment').collect()\n",
    "negative = sentiments[0][1]\n",
    "positive = sentiments[1][1]\n",
    "\n",
    "myexplode = [0.2, 0]\n",
    "plt.pie([positive, negative], labels=['Positive', 'Negative'], explode = myexplode, shadow = True, colors=['g', 'r'], autopct='%1.1f%%')\n",
    "plt.title('Reddit comments in different sentiment classes')\n",
    "plt.show()"
   ]
  },
  {
   "cell_type": "markdown",
   "id": "d318f04b",
   "metadata": {},
   "source": [
    "## Pre-processing"
   ]
  },
  {
   "cell_type": "code",
   "execution_count": 12,
   "id": "5c699b7b",
   "metadata": {},
   "outputs": [],
   "source": [
    "# Pre-processes the comments.\n",
    "def preprocess(comments):\n",
    "    \n",
    "    # Tokenization\n",
    "    tokenizer = RegexTokenizer(inputCol=\"body\", outputCol=\"tokens\", pattern=\"\\\\W+\")\n",
    "    tokenized = tokenizer.transform(comments)\n",
    "    \n",
    "    # Stop words removal\n",
    "    add_stopwords = [\"http\",\"https\",\"amp\",\"rt\",\"t\",\"c\",\"the\",\"@\",\"/\",\":\"] # standard web stop words\n",
    "    stopwords_remover = StopWordsRemover(inputCol=\"tokens\", outputCol=\"filtered_tokens\").setStopWords(add_stopwords)\n",
    "    filtered = stopwords_remover.transform(tokenized)\n",
    "    \n",
    "    return filtered"
   ]
  },
  {
   "cell_type": "code",
   "execution_count": 13,
   "id": "94846ae1",
   "metadata": {},
   "outputs": [
    {
     "name": "stderr",
     "output_type": "stream",
     "text": [
      "\r",
      "[Stage 18:>                                                         (0 + 1) / 1]\r"
     ]
    },
    {
     "name": "stdout",
     "output_type": "stream",
     "text": [
      "+--------------------+---------+--------------------+--------------------+\n",
      "|                body|sentiment|              tokens|     filtered_tokens|\n",
      "+--------------------+---------+--------------------+--------------------+\n",
      "|They should add t...|        1|[they, should, ad...|[they, should, ad...|\n",
      "|Beta has nothing ...|        1|[beta, has, nothi...|[beta, has, nothi...|\n",
      "|&gt;Actually perh...|        1|[gt, actually, pe...|[gt, actually, pe...|\n",
      "|So many votes, an...|        1|[so, many, votes,...|[so, many, votes,...|\n",
      "|Heee, I just imag...|        1|[heee, i, just, i...|[heee, i, just, i...|\n",
      "|I love the idea. ...|        1|[i, love, the, id...|[i, love, idea, g...|\n",
      "|&gt;turned out to...|        0|[gt, turned, out,...|[gt, turned, out,...|\n",
      "|Upvoting because ...|        0|[upvoting, becaus...|[upvoting, becaus...|\n",
      "|I have the same r...|        1|[i, have, the, sa...|[i, have, same, r...|\n",
      "|I'm female. Ergo,...|        1|[i, m, female, er...|[i, m, female, er...|\n",
      "|I'm black and I l...|        1|[i, m, black, and...|[i, m, black, and...|\n",
      "|One benefit is it...|        1|[one, benefit, is...|[one, benefit, is...|\n",
      "|If scoped correct...|        1|[if, scoped, corr...|[if, scoped, corr...|\n",
      "|The issue is that...|        1|[the, issue, is, ...|[issue, is, that,...|\n",
      "|Just ask me, I ca...|        1|[just, ask, me, i...|[just, ask, me, i...|\n",
      "|I would suggest c...|        1|[i, would, sugges...|[i, would, sugges...|\n",
      "|You are correct, ...|        1|[you, are, correc...|[you, are, correc...|\n",
      "|Dude, don't screw...|        0|[dude, don, t, sc...|[dude, don, screw...|\n",
      "|Why does he start...|        1|[why, does, he, s...|[why, does, he, s...|\n",
      "|So why is that an...|        0|[so, why, is, tha...|[so, why, is, tha...|\n",
      "+--------------------+---------+--------------------+--------------------+\n",
      "only showing top 20 rows\n",
      "\n"
     ]
    },
    {
     "name": "stderr",
     "output_type": "stream",
     "text": [
      "\r",
      "                                                                                \r"
     ]
    }
   ],
   "source": [
    "# Preprocesses the comment in the Reddit dataset.\n",
    "comments = preprocess(comments)\n",
    "comments.show()"
   ]
  },
  {
   "cell_type": "markdown",
   "id": "87dd3828",
   "metadata": {},
   "source": [
    "## Feature engineering"
   ]
  },
  {
   "cell_type": "code",
   "execution_count": 14,
   "id": "1d0738bd",
   "metadata": {},
   "outputs": [
    {
     "name": "stderr",
     "output_type": "stream",
     "text": [
      "                                                                                \r"
     ]
    },
    {
     "name": "stdout",
     "output_type": "stream",
     "text": [
      "+--------------------+---------+\n",
      "|            features|sentiment|\n",
      "+--------------------+---------+\n",
      "|(20,[0,1,2,7,8,16...|        1|\n",
      "|(20,[0,1,3,5,6,7,...|        1|\n",
      "|(20,[0,1,2,3,4,5,...|        1|\n",
      "|(20,[0,1,2,3,4,5,...|        1|\n",
      "|(20,[0,1,4,7,9,10...|        1|\n",
      "|(20,[0,1,3,5,6,7,...|        1|\n",
      "|(20,[2,3,4,5,6,7,...|        0|\n",
      "|(20,[1,8,11,13,15...|        0|\n",
      "|(20,[1,3,4,5,6,7,...|        1|\n",
      "|(20,[3,10,13,14,1...|        1|\n",
      "|(20,[0,2,3,4,8,10...|        1|\n",
      "|(20,[0,3,4,6,7,8,...|        1|\n",
      "|(20,[0,1,2,3,4,5,...|        1|\n",
      "|(20,[0,1,3,4,5,6,...|        1|\n",
      "|(20,[0,3,7,9,13,1...|        1|\n",
      "|(20,[0,1,3,4,5,6,...|        1|\n",
      "|(20,[0,1,2,3,4,5,...|        1|\n",
      "|(20,[1,2,3,4,5,6,...|        0|\n",
      "|(20,[1,3,8,12,13,...|        1|\n",
      "|(20,[0,3,4,5,9,10...|        0|\n",
      "+--------------------+---------+\n",
      "only showing top 20 rows\n",
      "\n"
     ]
    }
   ],
   "source": [
    "# Calculates term frequency (tf) for each of the tokens. \n",
    "hashing_tf = HashingTF(inputCol=\"filtered_tokens\", outputCol=\"raw_features\", numFeatures=20)\n",
    "tf = hashing_tf.transform(comments)\n",
    "\n",
    "# Calculates term frequency–inverse document frequency (tf-idf) for each of the tokens. \n",
    "idf = IDF(inputCol=\"raw_features\", outputCol=\"features\")\n",
    "idf_model = idf.fit(tf)\n",
    "tfidf = idf_model.transform(tf)\n",
    "\n",
    "tfidf.select(col('features'), col('sentiment')).show()"
   ]
  },
  {
   "cell_type": "markdown",
   "id": "4382e2fb",
   "metadata": {},
   "source": [
    "## Logistic Regression"
   ]
  },
  {
   "cell_type": "code",
   "execution_count": 15,
   "id": "ae10fab7",
   "metadata": {},
   "outputs": [],
   "source": [
    "# Sets random seed \n",
    "rnd_seed = 23\n",
    "np.random.seed = rnd_seed\n",
    "np.random.set_state = rnd_seed"
   ]
  },
  {
   "cell_type": "code",
   "execution_count": 16,
   "id": "d9dfcccd",
   "metadata": {},
   "outputs": [],
   "source": [
    "# Splits the data into train and test data\n",
    "train_data, test_data = tfidf.randomSplit([.7,.3], seed=rnd_seed)"
   ]
  },
  {
   "cell_type": "code",
   "execution_count": 17,
   "id": "91209e6a",
   "metadata": {},
   "outputs": [
    {
     "name": "stderr",
     "output_type": "stream",
     "text": [
      "                                                                                \r"
     ]
    },
    {
     "data": {
      "text/plain": [
       "(3500593, 1499668)"
      ]
     },
     "execution_count": 17,
     "metadata": {},
     "output_type": "execute_result"
    }
   ],
   "source": [
    "train_data.count(), test_data.count()"
   ]
  },
  {
   "cell_type": "markdown",
   "id": "054776bd",
   "metadata": {},
   "source": [
    "### Train the model"
   ]
  },
  {
   "cell_type": "code",
   "execution_count": 18,
   "id": "2801ec7a",
   "metadata": {},
   "outputs": [],
   "source": [
    "lr = LogisticRegression(featuresCol='features', labelCol='sentiment', predictionCol='predicted_sentiment', \n",
    "                        maxIter=500, regParam=0.3, elasticNetParam=0.8, standardization=False)"
   ]
  },
  {
   "cell_type": "code",
   "execution_count": 19,
   "id": "be9a2a4b",
   "metadata": {},
   "outputs": [
    {
     "name": "stderr",
     "output_type": "stream",
     "text": [
      "                                                                                \r"
     ]
    }
   ],
   "source": [
    "# Fit the data to the model\n",
    "lr = lr.fit(train_data)"
   ]
  },
  {
   "cell_type": "markdown",
   "id": "6b4d7291",
   "metadata": {},
   "source": [
    "### Evaluate the model"
   ]
  },
  {
   "cell_type": "code",
   "execution_count": 20,
   "id": "32f35a3f",
   "metadata": {},
   "outputs": [
    {
     "name": "stderr",
     "output_type": "stream",
     "text": [
      "                                                                                \r"
     ]
    },
    {
     "name": "stdout",
     "output_type": "stream",
     "text": [
      "Area under ROC curve = 0.5\n"
     ]
    }
   ],
   "source": [
    "# Evaluate the model on test data\n",
    "predictions = lr.transform(test_data)\n",
    "evaluator = BinaryClassificationEvaluator(rawPredictionCol='rawPrediction', labelCol='sentiment')\n",
    "auc = evaluator.evaluate(predictions)\n",
    "print(\"Area under ROC curve = %g\" % auc)"
   ]
  },
  {
   "cell_type": "markdown",
   "id": "6135af2e",
   "metadata": {},
   "source": [
    "### Inspect other metrics"
   ]
  },
  {
   "cell_type": "code",
   "execution_count": 21,
   "id": "e4b027aa",
   "metadata": {},
   "outputs": [
    {
     "name": "stderr",
     "output_type": "stream",
     "text": [
      "[Stage 52:====================================================>   (27 + 2) / 29]\r"
     ]
    },
    {
     "name": "stdout",
     "output_type": "stream",
     "text": [
      "True positive rate = 1\n",
      "False positive rate = 1\n",
      "Precision = 0.959821\n",
      "Recall = 1\n"
     ]
    },
    {
     "name": "stderr",
     "output_type": "stream",
     "text": [
      "\r",
      "                                                                                \r"
     ]
    }
   ],
   "source": [
    "tp = predictions[(predictions.sentiment == 1) & (predictions.predicted_sentiment == 1)].count()\n",
    "tn = predictions[(predictions.sentiment == 0) & (predictions.predicted_sentiment == 0)].count()\n",
    "fp = predictions[(predictions.sentiment == 0) & (predictions.predicted_sentiment == 1)].count()\n",
    "fn = predictions[(predictions.sentiment == 1) & (predictions.predicted_sentiment == 0)].count()\n",
    "\n",
    "print(\"True positive rate = %g\" % (tp / (tp + fn)))\n",
    "print(\"False positive rate = %g\" % (fp / (fp + tn)))\n",
    "print(\"Precision = %g\" % (tp / (tp + fp)))\n",
    "print(\"Recall = %g\" % (tp / (tp + fn)))"
   ]
  },
  {
   "cell_type": "code",
   "execution_count": 22,
   "id": "12117a44",
   "metadata": {},
   "outputs": [
    {
     "name": "stdout",
     "output_type": "stream",
     "text": [
      "Execution time: 1.362370231 seconds\n"
     ]
    }
   ],
   "source": [
    "print(f'Execution time: {time.process_time() - start_time} seconds')"
   ]
  },
  {
   "cell_type": "code",
   "execution_count": 23,
   "id": "1b499e0a",
   "metadata": {},
   "outputs": [],
   "source": [
    "spark_session.stop()"
   ]
  }
 ],
 "metadata": {
  "kernelspec": {
   "display_name": "Python 3 (ipykernel)",
   "language": "python",
   "name": "python3"
  },
  "language_info": {
   "codemirror_mode": {
    "name": "ipython",
    "version": 3
   },
   "file_extension": ".py",
   "mimetype": "text/x-python",
   "name": "python",
   "nbconvert_exporter": "python",
   "pygments_lexer": "ipython3",
   "version": "3.10.6"
  }
 },
 "nbformat": 4,
 "nbformat_minor": 5
}
