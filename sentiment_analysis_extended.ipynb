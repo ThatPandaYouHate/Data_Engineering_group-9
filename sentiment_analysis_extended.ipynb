{
 "cells": [
  {
   "cell_type": "markdown",
   "id": "77ddcaee",
   "metadata": {},
   "source": [
    "# Sentiment analysis of Reddit comments based on TF-IDF using PySpark "
   ]
  },
  {
   "cell_type": "code",
   "execution_count": 32,
   "id": "ab177f21",
   "metadata": {},
   "outputs": [
    {
     "name": "stderr",
     "output_type": "stream",
     "text": [
      "[nltk_data] Downloading package stopwords to /home/ubuntu/nltk_data...\n",
      "[nltk_data]   Package stopwords is already up-to-date!\n"
     ]
    }
   ],
   "source": [
    "import pandas as pd \n",
    "import numpy as np \n",
    "import time  \n",
    "\n",
    "import matplotlib.pyplot as plt\n",
    "import seaborn as sns\n",
    "\n",
    "from pyspark import SparkContext\n",
    "from pyspark.sql import SparkSession, SQLContext\n",
    "from pyspark.sql.functions import *\n",
    "from pyspark.sql.types import *\n",
    "\n",
    "from pyspark.ml.feature import RegexTokenizer, StopWordsRemover, HashingTF, IDF\n",
    "from pyspark.ml.classification import LogisticRegression\n",
    "from pyspark.ml.evaluation import BinaryClassificationEvaluator\n",
    "\n",
    "# Import NLTK stop words\n",
    "import nltk\n",
    "nltk.download('stopwords')\n",
    "from nltk.corpus import stopwords"
   ]
  },
  {
   "cell_type": "code",
   "execution_count": 33,
   "id": "2973d60e",
   "metadata": {},
   "outputs": [],
   "source": [
    "# Measures the execution time \n",
    "start_time = time.process_time()"
   ]
  },
  {
   "cell_type": "markdown",
   "id": "56c64617",
   "metadata": {},
   "source": [
    "## Creating the Spark Session"
   ]
  },
  {
   "cell_type": "code",
   "execution_count": 34,
   "id": "b61b2cfc",
   "metadata": {},
   "outputs": [],
   "source": [
    "spark_session = SparkSession.builder\\\n",
    "                            .master(f'spark://192.168.2.41:7077') \\\n",
    "                            .appName('Reddit_Sentiment_Analysis')\\\n",
    "                            .config('spark.dynamicAllocation.enabled', True)\\\n",
    "                            .config('spark.dynamicAllocation.shuffleTracking.enabled',True)\\\n",
    "                            .config('spark.shuffle.service.enabled', True)\\\n",
    "                            .config('spark.dynamicAllocation.executorIdleTimeout','30s')\\\n",
    "                            .config('spark.cores.max', 2)\\\n",
    "                            .getOrCreate()\n",
    "\n",
    "sql_context = SQLContext(spark_session.sparkContext)"
   ]
  },
  {
   "cell_type": "markdown",
   "id": "a09ee3ed",
   "metadata": {},
   "source": [
    "## Loading the Reddit dataset from HDFS"
   ]
  },
  {
   "cell_type": "code",
   "execution_count": 35,
   "id": "59aa5b40",
   "metadata": {},
   "outputs": [
    {
     "name": "stderr",
     "output_type": "stream",
     "text": [
      "                                                                                \r"
     ]
    }
   ],
   "source": [
    "# Loads the Reddit dataset containing comments as JSON documents from HDFS into a DataFrame \n",
    "# and stores it in cache memory to increase speed.\n",
    "comments = sql_context.read.json('hdfs://192.168.2.245:9000/group-9/RC_2005-12').cache()"
   ]
  },
  {
   "cell_type": "markdown",
   "id": "007181f9",
   "metadata": {},
   "source": [
    "## Data Exploration"
   ]
  },
  {
   "cell_type": "code",
   "execution_count": 36,
   "id": "037e5560",
   "metadata": {},
   "outputs": [
    {
     "name": "stdout",
     "output_type": "stream",
     "text": [
      "root\n",
      " |-- author: string (nullable = true)\n",
      " |-- author_flair_css_class: string (nullable = true)\n",
      " |-- author_flair_text: string (nullable = true)\n",
      " |-- body: string (nullable = true)\n",
      " |-- controversiality: long (nullable = true)\n",
      " |-- created_utc: long (nullable = true)\n",
      " |-- distinguished: string (nullable = true)\n",
      " |-- edited: boolean (nullable = true)\n",
      " |-- gilded: long (nullable = true)\n",
      " |-- id: string (nullable = true)\n",
      " |-- link_id: string (nullable = true)\n",
      " |-- parent_id: string (nullable = true)\n",
      " |-- retrieved_on: long (nullable = true)\n",
      " |-- score: long (nullable = true)\n",
      " |-- stickied: boolean (nullable = true)\n",
      " |-- subreddit: string (nullable = true)\n",
      " |-- subreddit_id: string (nullable = true)\n",
      " |-- ups: long (nullable = true)\n",
      "\n"
     ]
    }
   ],
   "source": [
    "# Prints the schema of the Reddit comments. \n",
    "comments.printSchema()"
   ]
  },
  {
   "cell_type": "markdown",
   "id": "d4fe169e",
   "metadata": {},
   "source": [
    "## Data Filtering"
   ]
  },
  {
   "cell_type": "code",
   "execution_count": 37,
   "id": "8864cb43",
   "metadata": {},
   "outputs": [],
   "source": [
    "# Removes comments without an author. \n",
    "comments = comments.filter(col('author') != '[deleted]')"
   ]
  },
  {
   "cell_type": "code",
   "execution_count": 38,
   "id": "ff38b933",
   "metadata": {},
   "outputs": [],
   "source": [
    "# Extracts the body and score of the of the Reddit comments. \n",
    "comments = comments.select(col('body'), col('score'))"
   ]
  },
  {
   "cell_type": "code",
   "execution_count": 39,
   "id": "3a236dcf",
   "metadata": {},
   "outputs": [
    {
     "name": "stdout",
     "output_type": "stream",
     "text": [
      "+--------------------+-----+\n",
      "|                body|score|\n",
      "+--------------------+-----+\n",
      "|A look at Vietnam...|    2|\n",
      "|The site states \"...|    1|\n",
      "|Saft is by far th...|    1|\n",
      "|How to take panor...|    1|\n",
      "|I donât know wh...|    1|\n",
      "|LinkIt by Marc, a...|    1|\n",
      "|Making websites r...|    1|\n",
      "|On the bright sid...|    1|\n",
      "|Like a lot of peo...|    8|\n",
      "|It's a New York T...|    3|\n",
      "|[Here's the copy ...|   12|\n",
      "|The best thing ab...|    5|\n",
      "|You can rank the ...|    7|\n",
      "|just testing this...|  -21|\n",
      "|               ye ye|    0|\n",
      "|_We didn't tortur...|    1|\n",
      "|Interesting artic...|    1|\n",
      "|reddit got a \"run...|    1|\n",
      "|this is wonderful...|   -9|\n",
      "|cool.  i love a g...|   -9|\n",
      "+--------------------+-----+\n",
      "only showing top 20 rows\n",
      "\n"
     ]
    }
   ],
   "source": [
    "# Prints the filtered comments.\n",
    "comments.show()"
   ]
  },
  {
   "cell_type": "markdown",
   "id": "d55d20c1",
   "metadata": {},
   "source": [
    "## Visualizing the scores of Reddit comments"
   ]
  },
  {
   "cell_type": "code",
   "execution_count": 40,
   "id": "6e868ad6",
   "metadata": {},
   "outputs": [],
   "source": [
    "# Spark to Pandas dataframe\n",
    "pandas_converted = comments.groupBy('score').agg(count('body').alias('count')).sort('score').toPandas()"
   ]
  },
  {
   "cell_type": "code",
   "execution_count": 41,
   "id": "56774640",
   "metadata": {},
   "outputs": [
    {
     "data": {
      "image/png": "[encoded data removed]",
      "text/plain": [
       "<Figure size 640x480 with 1 Axes>"
      ]
     },
     "metadata": {},
     "output_type": "display_data"
    }
   ],
   "source": [
    "# Plots the scores of all the Reddit comments.\n",
    "pandas_converted.plot.bar(x='score', y='count', legend=None)\n",
    "plt.title('Scores of Reddit comments')\n",
    "plt.ylabel('Number of Reddit comments')\n",
    "plt.xlabel('Score')\n",
    "plt.show()"
   ]
  },
  {
   "cell_type": "markdown",
   "id": "ee423023",
   "metadata": {},
   "source": [
    "From the above figure, we see that most of the Reddit comments has a score around 1."
   ]
  },
  {
   "cell_type": "markdown",
   "id": "97ddb67f",
   "metadata": {},
   "source": [
    "## Calculating the sentiments "
   ]
  },
  {
   "cell_type": "code",
   "execution_count": 42,
   "id": "9e99ecb2",
   "metadata": {},
   "outputs": [
    {
     "name": "stdout",
     "output_type": "stream",
     "text": [
      "+--------------------+---------+\n",
      "|                body|sentiment|\n",
      "+--------------------+---------+\n",
      "|A look at Vietnam...|        1|\n",
      "|The site states \"...|        1|\n",
      "|Saft is by far th...|        1|\n",
      "|How to take panor...|        1|\n",
      "|I donât know wh...|        1|\n",
      "|LinkIt by Marc, a...|        1|\n",
      "|Making websites r...|        1|\n",
      "|On the bright sid...|        1|\n",
      "|Like a lot of peo...|        1|\n",
      "|It's a New York T...|        1|\n",
      "|[Here's the copy ...|        1|\n",
      "|The best thing ab...|        1|\n",
      "|You can rank the ...|        1|\n",
      "|just testing this...|        0|\n",
      "|_We didn't tortur...|        1|\n",
      "|Interesting artic...|        1|\n",
      "|reddit got a \"run...|        1|\n",
      "|this is wonderful...|        0|\n",
      "|cool.  i love a g...|        0|\n",
      "|Comments? About t...|        0|\n",
      "+--------------------+---------+\n",
      "only showing top 20 rows\n",
      "\n"
     ]
    },
    {
     "name": "stderr",
     "output_type": "stream",
     "text": [
      "\r",
      "[Stage 10:>                                                         (0 + 1) / 1]\r",
      "\r",
      "                                                                                \r"
     ]
    }
   ],
   "source": [
    "# Converts the given score to either of the 2 sentiments: 0 (negative) if score < 0, or 1 (positive) if score > 0.\n",
    "def sentiment(score):\n",
    "    if score < 0:\n",
    "        return 0\n",
    "    if score > 0:\n",
    "        return 1\n",
    "\n",
    "# Defines an UDF for the sentiment() function\n",
    "udf_sentiment = udf(lambda score: sentiment(score), IntegerType())\n",
    "\n",
    "# Calculates the sentiment for each comment with neutral comments filtered out. \n",
    "comments = comments.filter(col('score') != 0).select(col('body'), udf_sentiment(col('score')).alias('sentiment'))\n",
    "\n",
    "comments.show()"
   ]
  },
  {
   "cell_type": "markdown",
   "id": "6056ae73",
   "metadata": {},
   "source": [
    "## Visualizing Reddit comments in different sentiment classes"
   ]
  },
  {
   "cell_type": "code",
   "execution_count": 43,
   "id": "1ade0226",
   "metadata": {},
   "outputs": [],
   "source": [
    "# Extracts the sentiments classes (negative and positive) and the number of comments in each sentiment class.\n",
    "sentiments = comments.groupBy('sentiment').agg(count('body').alias('count')).sort('sentiment').collect()\n",
    "negative = sentiments[0][1]\n",
    "positive = sentiments[1][1]"
   ]
  },
  {
   "cell_type": "code",
   "execution_count": 44,
   "id": "9b00a523",
   "metadata": {},
   "outputs": [
    {
     "data": {
      "image/png": "[encoded data removed]",
      "text/plain": [
       "<Figure size 640x480 with 1 Axes>"
      ]
     },
     "metadata": {},
     "output_type": "display_data"
    }
   ],
   "source": [
    "# Plots the sentiment classes and their corresponding counts. \n",
    "plt.pie([positive, negative], labels=['Positive', 'Negative'], explode = [0.2, 0], shadow = True, colors=['tab:green', 'tab:red'], autopct='%1.1f%%')\n",
    "plt.title('Reddit comments in different sentiment classes')\n",
    "plt.show()"
   ]
  },
  {
   "cell_type": "markdown",
   "id": "ac676a6d",
   "metadata": {},
   "source": [
    "## Pre-processing"
   ]
  },
  {
   "cell_type": "code",
   "execution_count": 45,
   "id": "605d17c1",
   "metadata": {},
   "outputs": [],
   "source": [
    "# Pre-processes the comments.\n",
    "def pre_process(comments):\n",
    "    \n",
    "    # Tokenization (split on HTML tags, URLs and non-alphabetic characters)\n",
    "    tokenizer = RegexTokenizer(inputCol=\"body\", outputCol=\"tokens\", pattern=\"\\&.*;|http:\\S+|www\\.\\S+|[^a-z]\")\n",
    "    tokenized = tokenizer.transform(comments)\n",
    "    \n",
    "    # Stop words removal using NLTK english stopwords\n",
    "    stopwords_remover = StopWordsRemover(inputCol=\"tokens\", outputCol=\"filtered_tokens\").setStopWords(stopwords.words('english'))\n",
    "    filtered = stopwords_remover.transform(tokenized) \n",
    "    \n",
    "    # Duplicates and empty vectors removal\n",
    "    return filtered.filter(size(col(\"filtered_tokens\")) > 0) \\\n",
    "                   .dropDuplicates([\"filtered_tokens\"])"
   ]
  },
  {
   "cell_type": "code",
   "execution_count": 46,
   "id": "ac54632b",
   "metadata": {},
   "outputs": [
    {
     "name": "stderr",
     "output_type": "stream",
     "text": [
      "\r",
      "[Stage 19:>                                                         (0 + 1) / 1]\r"
     ]
    },
    {
     "name": "stdout",
     "output_type": "stream",
     "text": [
      "+--------------------+---------+--------------------+--------------------+\n",
      "|                body|sentiment|              tokens|     filtered_tokens|\n",
      "+--------------------+---------+--------------------+--------------------+\n",
      "|As Aaronsw points...|        1|[as, aaronsw, poi...|[aaronsw, points,...|\n",
      "|What absolute mud...|        1|[what, absolute, ...|[absolute, muddle...|\n",
      "|What is it about ...|        1|[what, is, it, ab...|[academia, makes,...|\n",
      "|\"From each accord...|        1|[from, each, acco...|[according, abili...|\n",
      "|According to the ...|        1|[according, to, t...|[according, autho...|\n",
      "|\"According to new...|        1|[according, to, n...|[according, new, ...|\n",
      "|Actaully, I don't...|        1|[actaully, i, don...|[actaully, egg, f...|\n",
      "|If you actually b...|        1|[if, you, actuall...|[actually, believ...|\n",
      "|Actually, the cas...|        1|[actually, the, c...|[actually, case, ...|\n",
      "|Actually only abo...|        1|[actually, only, ...|[actually, functi...|\n",
      "|Actually, given t...|        1|[actually, given,...|[actually, given,...|\n",
      "|actually, as a li...|        0|[actually, as, a,...|[actually, lifelo...|\n",
      "|Actually, I think...|        1|[actually, i, thi...|[actually, think,...|\n",
      "|Actually, I total...|        1|[actually, i, tot...|[actually, totall...|\n",
      "|Additionally, if ...|        1|[additionally, if...|[additionally, ci...|\n",
      "|You have to addre...|        1|[you, have, to, a...|[address, kind, a...|\n",
      "|\"*...and adult vi...|        1|[and, adult, vide...|[adult, videos, r...|\n",
      "|I wouldn't advoca...|        1|[i, wouldn, t, ad...|[advocate, stuff,...|\n",
      "|I couldn't agree ...|        1|[i, couldn, t, ag...|[agree, author, t...|\n",
      "|I agree with bren...|        1|[i, agree, with, ...|[agree, brendanko...|\n",
      "+--------------------+---------+--------------------+--------------------+\n",
      "only showing top 20 rows\n",
      "\n"
     ]
    },
    {
     "name": "stderr",
     "output_type": "stream",
     "text": [
      "\r",
      "                                                                                \r"
     ]
    }
   ],
   "source": [
    "# Preprocesses the comment in the Reddit dataset.\n",
    "comments = pre_process(comments)\n",
    "comments.show()"
   ]
  },
  {
   "cell_type": "markdown",
   "id": "7ba78fe0",
   "metadata": {},
   "source": [
    "## Feature Extraction\n",
    "Using HashingTF() and IDF() to put features into a feature vector column. "
   ]
  },
  {
   "cell_type": "code",
   "execution_count": 47,
   "id": "646bd11b",
   "metadata": {},
   "outputs": [
    {
     "name": "stderr",
     "output_type": "stream",
     "text": [
      "                                                                                \r"
     ]
    },
    {
     "name": "stdout",
     "output_type": "stream",
     "text": [
      "+--------------------+---------+\n",
      "|            features|sentiment|\n",
      "+--------------------+---------+\n",
      "|(20,[1,2,4,7,8,9,...|        1|\n",
      "|(20,[5,9,16],[0.7...|        1|\n",
      "|(20,[2,8,19],[1.2...|        1|\n",
      "|(20,[9,11,13,15,1...|        0|\n",
      "|(20,[8,12],[0.593...|        1|\n",
      "|(20,[0,1,3,4,6,7,...|        1|\n",
      "|(20,[0,1,3,4,6,7,...|        1|\n",
      "|(20,[0,17],[0.552...|        1|\n",
      "|(20,[0,1,3,4,5,6,...|        1|\n",
      "|(20,[0,17],[0.552...|        1|\n",
      "|(20,[0,1,2,3,4,5,...|        1|\n",
      "|(20,[2,10],[0.600...|        1|\n",
      "|(20,[0,3,6,10,11,...|        1|\n",
      "|(20,[1,2,3,5,6,7,...|        1|\n",
      "|(20,[0,10,14,17],...|        1|\n",
      "|(20,[2,3,6,7,10,1...|        1|\n",
      "|(20,[0,1,2,3,4,5,...|        1|\n",
      "|(20,[0,1,2,3,4,6,...|        1|\n",
      "|(20,[4,5,7,15,16,...|        1|\n",
      "|(20,[0,1,2,3,4,5,...|        1|\n",
      "+--------------------+---------+\n",
      "only showing top 20 rows\n",
      "\n"
     ]
    }
   ],
   "source": [
    "# Calculates term frequency (tf) for each of the tokens. \n",
    "hashing_tf = HashingTF(inputCol=\"filtered_tokens\", outputCol=\"raw_features\", numFeatures=20)\n",
    "tf = hashing_tf.transform(comments)\n",
    "\n",
    "# Calculates term frequency–inverse document frequency (tf-idf) for each of the tokens. \n",
    "idf = IDF(inputCol=\"raw_features\", outputCol=\"features\")\n",
    "idf_model = idf.fit(tf)\n",
    "tfidf = idf_model.transform(tf)\n",
    "\n",
    "tfidf.select(col('features'), col('sentiment')).show()"
   ]
  },
  {
   "cell_type": "markdown",
   "id": "d7a2af03",
   "metadata": {},
   "source": [
    "The result displays that the features have transformed into a Dense Vector.\n",
    "\n",
    "We have generated enough information post preprocessing our data to feed it to the model. "
   ]
  },
  {
   "cell_type": "markdown",
   "id": "081e9065",
   "metadata": {},
   "source": [
    "## Building A Logistic Regression Model With Spark ML\n",
    "As we have finished the preprocessing of our data, now we build our Logistic Regression model. We first need to split the data into train and test sets, using the randomSplit() method:"
   ]
  },
  {
   "cell_type": "code",
   "execution_count": 48,
   "id": "64248053",
   "metadata": {},
   "outputs": [],
   "source": [
    "# Sets random seed \n",
    "rnd_seed=23\n",
    "np.random.seed=rnd_seed\n",
    "np.random.set_state=rnd_seed"
   ]
  },
  {
   "cell_type": "code",
   "execution_count": 49,
   "id": "8a585775",
   "metadata": {},
   "outputs": [],
   "source": [
    "# Splits the data into train and test data\n",
    "train_data, test_data = tfidf.randomSplit([.7,.3], seed=rnd_seed)"
   ]
  },
  {
   "cell_type": "code",
   "execution_count": 50,
   "id": "c56216d3",
   "metadata": {},
   "outputs": [
    {
     "data": {
      "text/plain": [
       "(524, 226)"
      ]
     },
     "execution_count": 50,
     "metadata": {},
     "output_type": "execute_result"
    }
   ],
   "source": [
    "# Size of the train and test data\n",
    "train_data.count(), test_data.count()"
   ]
  },
  {
   "cell_type": "markdown",
   "id": "fc72ad32",
   "metadata": {},
   "source": [
    "**Now we create an Logistic Regression Model**"
   ]
  },
  {
   "cell_type": "code",
   "execution_count": 51,
   "id": "874dee45",
   "metadata": {},
   "outputs": [],
   "source": [
    "# Creates the logistic regression model\n",
    "lr = LogisticRegression(featuresCol='features', labelCol='sentiment', predictionCol='predicted_sentiment', \n",
    "                        maxIter=500, regParam=0.3, elasticNetParam=0.8, standardization=False)"
   ]
  },
  {
   "cell_type": "code",
   "execution_count": 52,
   "id": "4396f92a",
   "metadata": {},
   "outputs": [],
   "source": [
    "# Fit the train data to the model\n",
    "lr = lr.fit(train_data)"
   ]
  },
  {
   "cell_type": "markdown",
   "id": "89265499",
   "metadata": {},
   "source": [
    "**Generate Predictions**"
   ]
  },
  {
   "cell_type": "code",
   "execution_count": 53,
   "id": "a1a90a2d",
   "metadata": {},
   "outputs": [
    {
     "name": "stdout",
     "output_type": "stream",
     "text": [
      "+-------------------+---------+\n",
      "|predicted_sentiment|sentiment|\n",
      "+-------------------+---------+\n",
      "|                1.0|        1|\n",
      "|                1.0|        1|\n",
      "|                1.0|        0|\n",
      "|                1.0|        1|\n",
      "|                1.0|        1|\n",
      "|                1.0|        1|\n",
      "|                1.0|        1|\n",
      "|                1.0|        1|\n",
      "|                1.0|        1|\n",
      "|                1.0|        1|\n",
      "|                1.0|        1|\n",
      "|                1.0|        1|\n",
      "|                1.0|        1|\n",
      "|                1.0|        1|\n",
      "|                1.0|        1|\n",
      "|                1.0|        1|\n",
      "|                1.0|        1|\n",
      "|                1.0|        1|\n",
      "|                1.0|        1|\n",
      "|                1.0|        1|\n",
      "+-------------------+---------+\n",
      "only showing top 20 rows\n",
      "\n"
     ]
    }
   ],
   "source": [
    "predictions = lr.transform(test_data)\n",
    "predictions.select(\"predicted_sentiment\", \"sentiment\").show(20)"
   ]
  },
  {
   "cell_type": "code",
   "execution_count": 54,
   "id": "f491a4a3",
   "metadata": {},
   "outputs": [
    {
     "name": "stderr",
     "output_type": "stream",
     "text": [
      "/home/ubuntu/.local/lib/python3.10/site-packages/pyspark/sql/context.py:125: FutureWarning: Deprecated in 3.0.0. Use SparkSession.builder.getOrCreate() instead.\n",
      "  warnings.warn(\n",
      "/home/ubuntu/.local/lib/python3.10/site-packages/pyspark/sql/context.py:125: FutureWarning: Deprecated in 3.0.0. Use SparkSession.builder.getOrCreate() instead.\n",
      "  warnings.warn(\n"
     ]
    },
    {
     "data": {
      "text/plain": [
       "<matplotlib.legend.Legend at 0x7f017d0a3be0>"
      ]
     },
     "execution_count": 54,
     "metadata": {},
     "output_type": "execute_result"
    },
    {
     "data": {
      "image/png": "[encoded data removed]",
      "text/plain": [
       "<Figure size 1200x700 with 1 Axes>"
      ]
     },
     "metadata": {},
     "output_type": "display_data"
    }
   ],
   "source": [
    "# Plotting the predicted sentiment vs the actual sentiment\n",
    "plt.figure(figsize=(12,7))\n",
    "pred_results=lr.evaluate(test_data)\n",
    "Y = pred_results.predictions.select('predicted_sentiment').toPandas()\n",
    "_Y = pred_results.predictions.select('sentiment').toPandas()\n",
    "plt.plot(Y, color='green', marker='*', linestyle='dashed', \n",
    "         label='Predicted Sentiment')\n",
    "plt.plot(_Y, color='red', label='Actual Sentiment')\n",
    "plt.title('Reddit Comments Sentiment Prediction')\n",
    "plt.ylabel('Sentiment')\n",
    "plt.legend()"
   ]
  },
  {
   "cell_type": "markdown",
   "id": "1016fbd7",
   "metadata": {},
   "source": [
    "**Inspect the Metrics**\n",
    "\n",
    "Now we look at some metrics to get a better idea of how good the model is performing using BinaryClassificationEvaluator.  "
   ]
  },
  {
   "cell_type": "code",
   "execution_count": 55,
   "id": "c46990a1",
   "metadata": {},
   "outputs": [
    {
     "name": "stdout",
     "output_type": "stream",
     "text": [
      "Area under ROC curve = 0.5\n"
     ]
    }
   ],
   "source": [
    "# Evaluate the model on test data\n",
    "evaluator = BinaryClassificationEvaluator(rawPredictionCol='rawPrediction', labelCol='sentiment')\n",
    "auc = evaluator.evaluate(predictions)\n",
    "print(\"Area under ROC curve = %g\" % auc)"
   ]
  },
  {
   "cell_type": "code",
   "execution_count": 56,
   "id": "485e260f",
   "metadata": {},
   "outputs": [
    {
     "name": "stdout",
     "output_type": "stream",
     "text": [
      "True positive rate = 1\n",
      "False positive rate = 1\n",
      "Precision = 0.911504\n",
      "Recall = 1\n"
     ]
    }
   ],
   "source": [
    "tp = predictions[(predictions.sentiment == 1) & (predictions.predicted_sentiment == 1)].count()\n",
    "tn = predictions[(predictions.sentiment == 0) & (predictions.predicted_sentiment == 0)].count()\n",
    "fp = predictions[(predictions.sentiment == 0) & (predictions.predicted_sentiment == 1)].count()\n",
    "fn = predictions[(predictions.sentiment == 1) & (predictions.predicted_sentiment == 0)].count()\n",
    "\n",
    "print(\"True positive rate = %g\" % (tp / (tp + fn)))\n",
    "print(\"False positive rate = %g\" % (fp / (fp + tn)))\n",
    "print(\"Precision = %g\" % (tp / (tp + fp)))\n",
    "print(\"Recall = %g\" % (tp / (tp + fn)))"
   ]
  },
  {
   "cell_type": "code",
   "execution_count": 57,
   "id": "6b88f370",
   "metadata": {},
   "outputs": [],
   "source": [
    "spark_session.stop() "
   ]
  },
  {
   "cell_type": "code",
   "execution_count": 58,
   "id": "79820615",
   "metadata": {},
   "outputs": [
    {
     "name": "stdout",
     "output_type": "stream",
     "text": [
      "Execution time: 1.38947859 seconds\n"
     ]
    }
   ],
   "source": [
    "print(f'Execution time: {time.process_time() - start_time} seconds')"
   ]
  }
 ],
 "metadata": {
  "kernelspec": {
   "display_name": "Python 3 (ipykernel)",
   "language": "python",
   "name": "python3"
  },
  "language_info": {
   "codemirror_mode": {
    "name": "ipython",
    "version": 3
   },
   "file_extension": ".py",
   "mimetype": "text/x-python",
   "name": "python",
   "nbconvert_exporter": "python",
   "pygments_lexer": "ipython3",
   "version": "3.10.6"
  }
 },
 "nbformat": 4,
 "nbformat_minor": 5
}
