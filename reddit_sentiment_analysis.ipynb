{
 "cells": [
  {
   "cell_type": "markdown",
   "id": "77ddcaee",
   "metadata": {},
   "source": [
    "# Sentiment analysis of Reddit comments based on TF-IDF using PySpark "
   ]
  },
  {
   "cell_type": "code",
   "execution_count": 6,
   "id": "ab177f21",
   "metadata": {},
   "outputs": [],
   "source": [
    "import pandas as pd \n",
    "import numpy as np \n",
    "import time  \n",
    "\n",
    "import matplotlib.pyplot as plt\n",
    "import seaborn as sns\n",
    "\n",
    "from pyspark import SparkContext\n",
    "from pyspark.sql import SparkSession, SQLContext\n",
    "from pyspark.sql.functions import *\n",
    "from pyspark.sql.types import *\n",
    "\n",
    "from pyspark.ml.feature import RegexTokenizer, StopWordsRemover, HashingTF, IDF\n",
    "from pyspark.ml.classification import LogisticRegression\n",
    "from pyspark.ml.evaluation import BinaryClassificationEvaluator"
   ]
  },
  {
   "cell_type": "code",
   "execution_count": 7,
   "id": "2973d60e",
   "metadata": {},
   "outputs": [],
   "source": [
    "# Measures the execution time \n",
    "start_time = time.process_time()"
   ]
  },
  {
   "cell_type": "code",
   "execution_count": 8,
   "id": "3644bb6f",
   "metadata": {},
   "outputs": [],
   "source": [
    "# Sets random seed for notebook reproducability\n",
    "rnd_seed=23\n",
    "np.random.seed=rnd_seed\n",
    "np.random.set_state=rnd_seed"
   ]
  },
  {
   "cell_type": "markdown",
   "id": "ddf9545a",
   "metadata": {},
   "source": [
    "## Creating the Spark Session"
   ]
  },
  {
   "cell_type": "code",
   "execution_count": 9,
   "id": "b61b2cfc",
   "metadata": {},
   "outputs": [],
   "source": [
    "spark_session = SparkSession.builder\\\n",
    "                            .master(f'spark://192.168.2.41:7077') \\\n",
    "                            .appName('Reddit_Sentiment_Analysis')\\\n",
    "                            .config('spark.dynamicAllocation.enabled', True)\\\n",
    "                            .config('spark.dynamicAllocation.shuffleTracking.enabled',True)\\\n",
    "                            .config('spark.shuffle.service.enabled', True)\\\n",
    "                            .config('spark.dynamicAllocation.executorIdleTimeout','30s')\\\n",
    "                            .config('spark.cores.max', 2)\\\n",
    "                            .getOrCreate()\n",
    "\n",
    "sql_context = SQLContext(spark_session.sparkContext)"
   ]
  },
  {
   "cell_type": "markdown",
   "id": "be75203c",
   "metadata": {},
   "source": [
    "## Loading the Reddit dataset from HDFS"
   ]
  },
  {
   "cell_type": "code",
   "execution_count": 10,
   "id": "59aa5b40",
   "metadata": {},
   "outputs": [
    {
     "name": "stderr",
     "output_type": "stream",
     "text": [
      "                                                                                \r"
     ]
    }
   ],
   "source": [
    "# Loads the Reddit dataset containing comments as JSON documents from HDFS into a DataFrame \n",
    "# and stores it in cache memory to increase speed.\n",
    "comments = sql_context.read.json('hdfs://192.168.2.245:9000/group-9/RC_2005-12').cache()"
   ]
  },
  {
   "cell_type": "markdown",
   "id": "007181f9",
   "metadata": {},
   "source": [
    "## Data Exploration"
   ]
  },
  {
   "cell_type": "code",
   "execution_count": 11,
   "id": "037e5560",
   "metadata": {},
   "outputs": [
    {
     "name": "stdout",
     "output_type": "stream",
     "text": [
      "root\n",
      " |-- author: string (nullable = true)\n",
      " |-- author_flair_css_class: string (nullable = true)\n",
      " |-- author_flair_text: string (nullable = true)\n",
      " |-- body: string (nullable = true)\n",
      " |-- controversiality: long (nullable = true)\n",
      " |-- created_utc: long (nullable = true)\n",
      " |-- distinguished: string (nullable = true)\n",
      " |-- edited: boolean (nullable = true)\n",
      " |-- gilded: long (nullable = true)\n",
      " |-- id: string (nullable = true)\n",
      " |-- link_id: string (nullable = true)\n",
      " |-- parent_id: string (nullable = true)\n",
      " |-- retrieved_on: long (nullable = true)\n",
      " |-- score: long (nullable = true)\n",
      " |-- stickied: boolean (nullable = true)\n",
      " |-- subreddit: string (nullable = true)\n",
      " |-- subreddit_id: string (nullable = true)\n",
      " |-- ups: long (nullable = true)\n",
      "\n"
     ]
    }
   ],
   "source": [
    "# Prints the schema of the Reddit comments. \n",
    "comments.printSchema()"
   ]
  },
  {
   "cell_type": "code",
   "execution_count": 12,
   "id": "8864cb43",
   "metadata": {},
   "outputs": [],
   "source": [
    "# Removes comments without an author. \n",
    "comments = comments.filter(col('author') != '[deleted]')"
   ]
  },
  {
   "cell_type": "code",
   "execution_count": 13,
   "id": "ff38b933",
   "metadata": {},
   "outputs": [],
   "source": [
    "# Extracts the body and score of the of the Reddit comments. \n",
    "comments = comments.select(col('body'), col('score'))"
   ]
  },
  {
   "cell_type": "code",
   "execution_count": 14,
   "id": "3a236dcf",
   "metadata": {},
   "outputs": [
    {
     "name": "stdout",
     "output_type": "stream",
     "text": [
      "+--------------------+-----+\n",
      "|                body|score|\n",
      "+--------------------+-----+\n",
      "|A look at Vietnam...|    2|\n",
      "|The site states \"...|    1|\n",
      "|Saft is by far th...|    1|\n",
      "|How to take panor...|    1|\n",
      "|I donât know wh...|    1|\n",
      "|LinkIt by Marc, a...|    1|\n",
      "|Making websites r...|    1|\n",
      "|On the bright sid...|    1|\n",
      "|Like a lot of peo...|    8|\n",
      "|It's a New York T...|    3|\n",
      "|[Here's the copy ...|   12|\n",
      "|The best thing ab...|    5|\n",
      "|You can rank the ...|    7|\n",
      "|just testing this...|  -21|\n",
      "|               ye ye|    0|\n",
      "|_We didn't tortur...|    1|\n",
      "|Interesting artic...|    1|\n",
      "|reddit got a \"run...|    1|\n",
      "|this is wonderful...|   -9|\n",
      "|cool.  i love a g...|   -9|\n",
      "+--------------------+-----+\n",
      "only showing top 20 rows\n",
      "\n"
     ]
    }
   ],
   "source": [
    "# Prints the filtered comments.\n",
    "comments.show()"
   ]
  },
  {
   "cell_type": "markdown",
   "id": "36b3606f",
   "metadata": {},
   "source": [
    "## Visualizing the scores of Reddit comments"
   ]
  },
  {
   "cell_type": "code",
   "execution_count": 15,
   "id": "76718bd9",
   "metadata": {},
   "outputs": [],
   "source": [
    "# Spark to Pandas dataframe\n",
    "pandas_converted = comments.groupBy('score').agg(count('body').alias('count')).sort('score').toPandas()"
   ]
  },
  {
   "cell_type": "code",
   "execution_count": 16,
   "id": "9870a595",
   "metadata": {},
   "outputs": [
    {
     "data": {
      "image/png": "[encoded data removed]",
      "text/plain": [
       "<Figure size 640x480 with 1 Axes>"
      ]
     },
     "metadata": {},
     "output_type": "display_data"
    }
   ],
   "source": [
    "# Plots the scores of all the Reddit comments.\n",
    "pandas_converted.plot.bar(x='score', y='count', legend=None)\n",
    "plt.title('Scores of Reddit comments')\n",
    "plt.ylabel('Number of Reddit comments')\n",
    "plt.xlabel('Score')\n",
    "plt.show()"
   ]
  },
  {
   "cell_type": "markdown",
   "id": "6e6be269",
   "metadata": {},
   "source": [
    "From the above figure, we see that most of the Reddit comments has a score around 1."
   ]
  },
  {
   "cell_type": "markdown",
   "id": "ec01e707",
   "metadata": {},
   "source": [
    "## Calculating the sentiments "
   ]
  },
  {
   "cell_type": "code",
   "execution_count": 17,
   "id": "4521f0aa",
   "metadata": {},
   "outputs": [
    {
     "name": "stdout",
     "output_type": "stream",
     "text": [
      "+--------------------+---------+\n",
      "|                body|sentiment|\n",
      "+--------------------+---------+\n",
      "|A look at Vietnam...|        1|\n",
      "|The site states \"...|        1|\n",
      "|Saft is by far th...|        1|\n",
      "|How to take panor...|        1|\n",
      "|I donât know wh...|        1|\n",
      "|LinkIt by Marc, a...|        1|\n",
      "|Making websites r...|        1|\n",
      "|On the bright sid...|        1|\n",
      "|Like a lot of peo...|        1|\n",
      "|It's a New York T...|        1|\n",
      "|[Here's the copy ...|        1|\n",
      "|The best thing ab...|        1|\n",
      "|You can rank the ...|        1|\n",
      "|just testing this...|        0|\n",
      "|_We didn't tortur...|        1|\n",
      "|Interesting artic...|        1|\n",
      "|reddit got a \"run...|        1|\n",
      "|this is wonderful...|        0|\n",
      "|cool.  i love a g...|        0|\n",
      "|Comments? About t...|        0|\n",
      "+--------------------+---------+\n",
      "only showing top 20 rows\n",
      "\n"
     ]
    }
   ],
   "source": [
    "# Converts the given score to either of the 2 sentiments: 0 (negative) if score < 0, or 1 (positive) if score > 0.\n",
    "def sentiment(score):\n",
    "    if score < 0:\n",
    "        return 0\n",
    "    if score > 0:\n",
    "        return 1\n",
    "\n",
    "# Defines an UDF for the sentiment() function\n",
    "udf_sentiment = udf(lambda score: sentiment(score), IntegerType())\n",
    "\n",
    "# Calculates the sentiment for each comment with neutral comments filtered out. \n",
    "comments = comments.filter(col('score') != 0).select(col('body'), udf_sentiment(col('score')).alias('sentiment'))\n",
    "\n",
    "comments.show()"
   ]
  },
  {
   "cell_type": "markdown",
   "id": "5fb3ce2f",
   "metadata": {},
   "source": [
    "## Visualizing Reddit comments in different sentiment classes"
   ]
  },
  {
   "cell_type": "code",
   "execution_count": 18,
   "id": "2d86866c",
   "metadata": {},
   "outputs": [],
   "source": [
    "# Extracts the sentiments classes (negative and positive) and the number of comments in each sentiment class.\n",
    "sentiments = comments.groupBy('sentiment').agg(count('body').alias('count')).sort('sentiment').collect()\n",
    "negative = sentiments[0][1]\n",
    "positive = sentiments[1][1]"
   ]
  },
  {
   "cell_type": "code",
   "execution_count": 19,
   "id": "239735cf",
   "metadata": {},
   "outputs": [
    {
     "data": {
      "image/png": "[encoded data removed]",
      "text/plain": [
       "<Figure size 640x480 with 1 Axes>"
      ]
     },
     "metadata": {},
     "output_type": "display_data"
    }
   ],
   "source": [
    "# Plots the sentiment classes and their corresponding counts. \n",
    "plt.pie([positive, negative], labels=['Positive', 'Negative'], explode = [0.2, 0], shadow = True, colors=['tab:green', 'tab:red'], autopct='%1.1f%%')\n",
    "plt.title('Reddit comments in different sentiment classes')\n",
    "plt.show()"
   ]
  },
  {
   "cell_type": "markdown",
   "id": "ac676a6d",
   "metadata": {},
   "source": [
    "## Pre-processing"
   ]
  },
  {
   "cell_type": "code",
   "execution_count": 20,
   "id": "605d17c1",
   "metadata": {},
   "outputs": [],
   "source": [
    "# Pre-processes the comments.\n",
    "def pre_process(comments):\n",
    "    \n",
    "    # Tokenization\n",
    "    tokenizer = RegexTokenizer(inputCol=\"body\", outputCol=\"tokens\", pattern=\"\\\\W+\")\n",
    "    tokenized = tokenizer.transform(comments)\n",
    "    \n",
    "    # Stop words removal\n",
    "    add_stopwords = [\"http\",\"https\",\"amp\",\"rt\",\"t\",\"c\",\"the\",\"@\",\"/\",\":\"] # standard web stop words\n",
    "    stopwords_remover = StopWordsRemover(inputCol=\"tokens\", outputCol=\"filtered_tokens\").setStopWords(add_stopwords)\n",
    "    filtered = stopwords_remover.transform(tokenized)\n",
    "    \n",
    "    return filtered"
   ]
  },
  {
   "cell_type": "code",
   "execution_count": 21,
   "id": "ac54632b",
   "metadata": {},
   "outputs": [
    {
     "name": "stderr",
     "output_type": "stream",
     "text": [
      "\r",
      "[Stage 19:>                                                         (0 + 1) / 1]\r"
     ]
    },
    {
     "name": "stdout",
     "output_type": "stream",
     "text": [
      "+--------------------+---------+--------------------+--------------------+\n",
      "|                body|sentiment|              tokens|     filtered_tokens|\n",
      "+--------------------+---------+--------------------+--------------------+\n",
      "|A look at Vietnam...|        1|[a, look, at, vie...|[a, look, at, vie...|\n",
      "|The site states \"...|        1|[the, site, state...|[site, states, wh...|\n",
      "|Saft is by far th...|        1|[saft, is, by, fa...|[saft, is, by, fa...|\n",
      "|How to take panor...|        1|[how, to, take, p...|[how, to, take, p...|\n",
      "|I donât know wh...|        1|[i, don, t, know,...|[i, don, know, wh...|\n",
      "|LinkIt by Marc, a...|        1|[linkit, by, marc...|[linkit, by, marc...|\n",
      "|Making websites r...|        1|[making, websites...|[making, websites...|\n",
      "|On the bright sid...|        1|[on, the, bright,...|[on, bright, side...|\n",
      "|Like a lot of peo...|        1|[like, a, lot, of...|[like, a, lot, of...|\n",
      "|It's a New York T...|        1|[it, s, a, new, y...|[it, s, a, new, y...|\n",
      "|[Here's the copy ...|        1|[here, s, the, co...|[here, s, copy, p...|\n",
      "|The best thing ab...|        1|[the, best, thing...|[best, thing, abo...|\n",
      "|You can rank the ...|        1|[you, can, rank, ...|[you, can, rank, ...|\n",
      "|just testing this...|        0|[just, testing, t...|[just, testing, t...|\n",
      "|_We didn't tortur...|        1|[_we, didn, t, to...|[_we, didn, tortu...|\n",
      "|Interesting artic...|        1|[interesting, art...|[interesting, art...|\n",
      "|reddit got a \"run...|        1|[reddit, got, a, ...|[reddit, got, a, ...|\n",
      "|this is wonderful...|        0|[this, is, wonder...|[this, is, wonder...|\n",
      "|cool.  i love a g...|        0|[cool, i, love, a...|[cool, i, love, a...|\n",
      "|Comments? About t...|        0|[comments, about,...|[comments, about,...|\n",
      "+--------------------+---------+--------------------+--------------------+\n",
      "only showing top 20 rows\n",
      "\n"
     ]
    },
    {
     "name": "stderr",
     "output_type": "stream",
     "text": [
      "\r",
      "                                                                                \r"
     ]
    }
   ],
   "source": [
    "# Preprocesses the comment in the Reddit dataset.\n",
    "comments = pre_process(comments)\n",
    "comments.show()"
   ]
  },
  {
   "cell_type": "markdown",
   "id": "7ba78fe0",
   "metadata": {},
   "source": [
    "## Feature Extraction\n",
    "Using HashingTF() and IDF() to put features into a feature vector column. "
   ]
  },
  {
   "cell_type": "code",
   "execution_count": 22,
   "id": "646bd11b",
   "metadata": {},
   "outputs": [
    {
     "name": "stderr",
     "output_type": "stream",
     "text": [
      "                                                                                \r"
     ]
    },
    {
     "name": "stdout",
     "output_type": "stream",
     "text": [
      "+--------------------+---------+\n",
      "|            features|sentiment|\n",
      "+--------------------+---------+\n",
      "|(20,[1,2,7,10,11,...|        1|\n",
      "|(20,[0,1,3,4,5,6,...|        1|\n",
      "|(20,[0,1,3,6,9,13...|        1|\n",
      "|(20,[1,2,3,8,15,1...|        1|\n",
      "|(20,[0,1,2,4,5,6,...|        1|\n",
      "|(20,[1,2,3,4,5,8,...|        1|\n",
      "|(20,[0,1,2,4,6,8,...|        1|\n",
      "|(20,[0,1,3,4,6,7,...|        1|\n",
      "|(20,[0,1,2,3,4,5,...|        1|\n",
      "|(20,[0,1,3,5,6,7,...|        1|\n",
      "|(20,[0,1,2,3,5,6,...|        1|\n",
      "|(20,[0,3,4,6,7,9,...|        1|\n",
      "|(20,[0,10,11,13,1...|        1|\n",
      "|(20,[7,9,13],[0.3...|        0|\n",
      "|(20,[1,9,11,13,15...|        1|\n",
      "|(20,[2,3,8,13,14,...|        1|\n",
      "|(20,[0,1,3,4,5,6,...|        1|\n",
      "|(20,[1,2,6,7,9,13...|        0|\n",
      "|(20,[0,7,8,11,15,...|        0|\n",
      "|(20,[0,3,6,8,9,11...|        0|\n",
      "+--------------------+---------+\n",
      "only showing top 20 rows\n",
      "\n"
     ]
    }
   ],
   "source": [
    "# Calculates term frequency (tf) for each of the tokens. \n",
    "hashing_tf = HashingTF(inputCol=\"filtered_tokens\", outputCol=\"raw_features\", numFeatures=20)\n",
    "tf = hashing_tf.transform(comments)\n",
    "\n",
    "# Calculates term frequency–inverse document frequency (tf-idf) for each of the tokens. \n",
    "idf = IDF(inputCol=\"raw_features\", outputCol=\"features\")\n",
    "idf_model = idf.fit(tf)\n",
    "tfidf = idf_model.transform(tf)\n",
    "\n",
    "tfidf.select(col('features'), col('sentiment')).show()"
   ]
  },
  {
   "cell_type": "markdown",
   "id": "d7a2af03",
   "metadata": {},
   "source": [
    "The result displays that the features have transformed into a Dense Vector.\n",
    "\n",
    "We have generated enough information post preprocessing our data to feed it to the model. "
   ]
  },
  {
   "cell_type": "markdown",
   "id": "f2b7b27d",
   "metadata": {},
   "source": [
    "## Building A Logistic Regression Model With Spark ML\n",
    "As we have finished the preprocessing of our data, now we build our Logistic Regression model. We first need to split the data into train and test sets, using the randomSplit() method:"
   ]
  },
  {
   "cell_type": "code",
   "execution_count": 23,
   "id": "c9d3ea61",
   "metadata": {},
   "outputs": [],
   "source": [
    "# Sets random seed \n",
    "rnd_seed=23\n",
    "np.random.seed=rnd_seed\n",
    "np.random.set_state=rnd_seed"
   ]
  },
  {
   "cell_type": "code",
   "execution_count": 24,
   "id": "6420f54f",
   "metadata": {},
   "outputs": [],
   "source": [
    "# Splits the data into train and test data\n",
    "train_data, test_data = tfidf.randomSplit([.7,.3], seed=rnd_seed)"
   ]
  },
  {
   "cell_type": "code",
   "execution_count": 25,
   "id": "fda73e5f",
   "metadata": {},
   "outputs": [
    {
     "data": {
      "text/plain": [
       "(537, 234)"
      ]
     },
     "execution_count": 25,
     "metadata": {},
     "output_type": "execute_result"
    }
   ],
   "source": [
    "# Size of the train and test data\n",
    "train_data.count(), test_data.count()"
   ]
  },
  {
   "cell_type": "markdown",
   "id": "288e4010",
   "metadata": {},
   "source": [
    "### Now we create an Logistic Regression Model"
   ]
  },
  {
   "cell_type": "code",
   "execution_count": 26,
   "id": "79aff7b6",
   "metadata": {},
   "outputs": [],
   "source": [
    "# Creates the logistic regression model\n",
    "lr = LogisticRegression(featuresCol='features', labelCol='sentiment', predictionCol='predicted_sentiment', \n",
    "                        maxIter=500, regParam=0.3, elasticNetParam=0.8, standardization=False)"
   ]
  },
  {
   "cell_type": "code",
   "execution_count": 28,
   "id": "916f8fd7",
   "metadata": {},
   "outputs": [],
   "source": [
    "# Fit the train data to the model\n",
    "lr = lr.fit(train_data)"
   ]
  },
  {
   "cell_type": "markdown",
   "id": "e1b61939",
   "metadata": {},
   "source": [
    "### Evaluate the model"
   ]
  },
  {
   "cell_type": "code",
   "execution_count": 29,
   "id": "a993f6e5",
   "metadata": {},
   "outputs": [
    {
     "name": "stdout",
     "output_type": "stream",
     "text": [
      "Area under ROC curve = 0.5\n"
     ]
    }
   ],
   "source": [
    "# Evaluate the model on test data\n",
    "predictions = lr.transform(test_data)\n",
    "evaluator = BinaryClassificationEvaluator(rawPredictionCol='rawPrediction', labelCol='sentiment')\n",
    "auc = evaluator.evaluate(predictions)\n",
    "print(\"Area under ROC curve = %g\" % auc)"
   ]
  },
  {
   "cell_type": "markdown",
   "id": "12d2c513",
   "metadata": {},
   "source": [
    "### Inspect other metrics"
   ]
  },
  {
   "cell_type": "code",
   "execution_count": 30,
   "id": "2a9bb567",
   "metadata": {},
   "outputs": [
    {
     "name": "stdout",
     "output_type": "stream",
     "text": [
      "True positive rate = 1\n",
      "False positive rate = 1\n",
      "Precision = 0.91453\n",
      "Recall = 1\n"
     ]
    }
   ],
   "source": [
    "tp = predictions[(predictions.sentiment == 1) & (predictions.predicted_sentiment == 1)].count()\n",
    "tn = predictions[(predictions.sentiment == 0) & (predictions.predicted_sentiment == 0)].count()\n",
    "fp = predictions[(predictions.sentiment == 0) & (predictions.predicted_sentiment == 1)].count()\n",
    "fn = predictions[(predictions.sentiment == 1) & (predictions.predicted_sentiment == 0)].count()\n",
    "\n",
    "print(\"True positive rate = %g\" % (tp / (tp + fn)))\n",
    "print(\"False positive rate = %g\" % (fp / (fp + tn)))\n",
    "print(\"Precision = %g\" % (tp / (tp + fp)))\n",
    "print(\"Recall = %g\" % (tp / (tp + fn)))"
   ]
  },
  {
   "cell_type": "code",
   "execution_count": 31,
   "id": "6b88f370",
   "metadata": {},
   "outputs": [],
   "source": [
    "spark_session.stop() "
   ]
  },
  {
   "cell_type": "code",
   "execution_count": 32,
   "id": "c05caad0",
   "metadata": {},
   "outputs": [
    {
     "name": "stdout",
     "output_type": "stream",
     "text": [
      "Execution time: 0.9293506029999998 seconds\n"
     ]
    }
   ],
   "source": [
    "print(f'Execution time: {time.process_time() - start_time} seconds')"
   ]
  }
 ],
 "metadata": {
  "kernelspec": {
   "display_name": "Python 3 (ipykernel)",
   "language": "python",
   "name": "python3"
  },
  "language_info": {
   "codemirror_mode": {
    "name": "ipython",
    "version": 3
   },
   "file_extension": ".py",
   "mimetype": "text/x-python",
   "name": "python",
   "nbconvert_exporter": "python",
   "pygments_lexer": "ipython3",
   "version": "3.10.6"
  }
 },
 "nbformat": 4,
 "nbformat_minor": 5
}
