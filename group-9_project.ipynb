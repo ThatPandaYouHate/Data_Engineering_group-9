{
 "cells": [
  {
   "cell_type": "code",
   "execution_count": 1,
   "id": "b61b2cfc",
   "metadata": {},
   "outputs": [
    {
     "name": "stderr",
     "output_type": "stream",
     "text": [
      "WARNING: An illegal reflective access operation has occurred\n",
      "WARNING: Illegal reflective access by org.apache.spark.unsafe.Platform (file:/home/ubuntu/.local/lib/python3.10/site-packages/pyspark/jars/spark-unsafe_2.12-3.2.3.jar) to constructor java.nio.DirectByteBuffer(long,int)\n",
      "WARNING: Please consider reporting this to the maintainers of org.apache.spark.unsafe.Platform\n",
      "WARNING: Use --illegal-access=warn to enable warnings of further illegal reflective access operations\n",
      "WARNING: All illegal access operations will be denied in a future release\n",
      "Using Spark's default log4j profile: org/apache/spark/log4j-defaults.properties\n",
      "Setting default log level to \"WARN\".\n",
      "To adjust logging level use sc.setLogLevel(newLevel). For SparkR, use setLogLevel(newLevel).\n",
      "23/03/01 19:17:23 WARN NativeCodeLoader: Unable to load native-hadoop library for your platform... using builtin-java classes where applicable\n"
     ]
    }
   ],
   "source": [
    "from pyspark.sql import SparkSession\n",
    "\n",
    "spark_session = SparkSession.builder\\\n",
    " .master(\"spark://192.168.2.122:7077\") \\\n",
    " .appName(\"MartinBevemyr_CoolBoy\")\\\n",
    " .config(\"spark.dynamicAllocation.enabled\", True)\\\n",
    " .config(\"spark.dynamicAllocation.shuffleTracking.enabled\",True)\\\n",
    " .config(\"spark.shuffle.service.enabled\", True)\\\n",
    " .config(\"spark.dynamicAllocation.executorIdleTimeout\",\"30s\")\\\n",
    " .config(\"spark.cores.max\", 2)\\\n",
    " .getOrCreate()"
   ]
  },
  {
   "cell_type": "code",
   "execution_count": 2,
   "id": "59aa5b40",
   "metadata": {},
   "outputs": [
    {
     "name": "stderr",
     "output_type": "stream",
     "text": [
      "/home/ubuntu/.local/lib/python3.10/site-packages/pyspark/sql/context.py:77: FutureWarning: Deprecated in 3.0.0. Use SparkSession.builder.getOrCreate() instead.\n",
      "  warnings.warn(\n",
      "                                                                                \r"
     ]
    },
    {
     "name": "stdout",
     "output_type": "stream",
     "text": [
      "+----------+----------------------+-----------------+--------------------+----------------+-----------+-------------+------+------+---+--------+---------+------------+-----+--------+----------+------------+---+\n",
      "|    author|author_flair_css_class|author_flair_text|                body|controversiality|created_utc|distinguished|edited|gilded| id| link_id|parent_id|retrieved_on|score|stickied| subreddit|subreddit_id|ups|\n",
      "+----------+----------------------+-----------------+--------------------+----------------+-----------+-------------+------+------+---+--------+---------+------------+-----+--------+----------+------------+---+\n",
      "|      frjo|                  null|             null|A look at Vietnam...|               0| 1134365188|         null| false|     0|c13|t3_17863| t3_17863|  1473738411|    2|   false|reddit.com|        t5_6|  2|\n",
      "|   zse7zse|                  null|             null|The site states \"...|               0| 1134365725|         null| false|     0|c14|t3_17866| t3_17866|  1473738411|    1|   false|reddit.com|        t5_6|  1|\n",
      "| [deleted]|                  null|             null|Jython related to...|               0| 1134366848|         null| false|     0|c15|t3_17869| t3_17869|  1473738411|    0|   false|reddit.com|        t5_6|  0|\n",
      "| [deleted]|                  null|             null|           [deleted]|               0| 1134367660|         null| false|     0|c16|t3_17870| t3_17870|  1473738411|    1|   false|reddit.com|        t5_6|  1|\n",
      "|   rjoseph|                  null|             null|Saft is by far th...|               0| 1134367754|         null| false|     0|c17|t3_17817| t3_17817|  1473738411|    1|   false|reddit.com|        t5_6|  1|\n",
      "| [deleted]|                  null|             null|           [deleted]|               0| 1134368231|         null| false|     0|c18|t3_17710| t3_17710|  1473738411|   -6|   false|reddit.com|        t5_6| -6|\n",
      "|  cavedave|                  null|             null|How to take panor...|               0| 1134371050|         null| false|     0|c19|t3_17876| t3_17876|  1473738411|    1|   false|reddit.com|        t5_6|  1|\n",
      "|      b0se|                  null|             null|I donât know wh...|               0| 1134371664|         null| false|     0|c20|t3_17878| t3_17878|  1473738413|    1|   false|reddit.com|        t5_6|  1|\n",
      "|     damir|                  null|             null|LinkIt by Marc, a...|               0| 1134375273|         null| false|     0|c21|t3_17890| t3_17890|  1473738413|    1|   false|reddit.com|        t5_6|  1|\n",
      "|richardk74|                  null|             null|Making websites r...|               0| 1134380167|         null| false|     0|c22|t3_17901| t3_17901|  1473738413|    1|   false|reddit.com|        t5_6|  1|\n",
      "|  kn0thing|                  null|             null|On the bright sid...|               0| 1134381378|         null| false|     0|c24|t3_17830| t3_17830|  1473738413|    1|   false|reddit.com|        t5_6|  1|\n",
      "|   bugbear|                  null|             null|Like a lot of peo...|               0| 1134384119|         null| false|     0|c26|t3_17844| t3_17844|  1473738413|    8|   false|reddit.com|        t5_6|  8|\n",
      "| [deleted]|                  null|             null|This is comment t...|               0| 1134385225|         null| false|     0|c27|t3_17844| t3_17844|  1473738413|  -16|   false|reddit.com|        t5_6|-16|\n",
      "| [deleted]|                  null|             null|           [deleted]|               1| 1134386131|         null| false|     0|c29|t3_17844| t3_17844|  1473738413|    0|   false|reddit.com|        t5_6|  0|\n",
      "| [deleted]|                  null|             null|           [deleted]|               1| 1134386182|         null| false|     0|c30|t3_17844| t3_17844|  1473738413|   -2|   false|reddit.com|        t5_6| -2|\n",
      "| [deleted]|                  null|             null|           [deleted]|               1| 1134386193|         null| false|     0|c31|t3_17844| t3_17844|  1473738413|   -6|   false|reddit.com|        t5_6| -6|\n",
      "| [deleted]|                  null|             null|           [deleted]|               1| 1134386254|         null| false|     0|c32|t3_17844| t3_17844|  1473738413|   -4|   false|reddit.com|        t5_6| -4|\n",
      "|   AaronSw|                  null|             null|It's a New York T...|               0| 1134386388|         null| false|     0|c33|t3_17844|   t1_c29|  1473738413|    3|   false|reddit.com|        t5_6|  3|\n",
      "|   AaronSw|                  null|             null|[Here's the copy ...|               0| 1134386498|         null| false|     0|c35|t3_17844|   t1_c33|  1473738413|   12|   false|reddit.com|        t5_6| 12|\n",
      "|  fnord123|                  null|             null|The best thing ab...|               1| 1134386557|         null| false|     0|c36|t3_17844| t3_17844|  1473738413|    5|   false|reddit.com|        t5_6|  5|\n",
      "+----------+----------------------+-----------------+--------------------+----------------+-----------+-------------+------+------+---+--------+---------+------------+-----+--------+----------+------------+---+\n",
      "only showing top 20 rows\n",
      "\n"
     ]
    }
   ],
   "source": [
    "from pyspark.sql import*\n",
    "from pyspark import SparkContext, SparkConf\n",
    "sqldata = SQLContext(spark_session)\n",
    "\n",
    "data=sqldata.read.json(\"hdfs://192.168.2.122:9000/group-9/RC_2005-12\")\n",
    "\n",
    "data.show()"
   ]
  },
  {
   "cell_type": "code",
   "execution_count": 3,
   "id": "037e5560",
   "metadata": {},
   "outputs": [
    {
     "name": "stdout",
     "output_type": "stream",
     "text": [
      "root\n",
      " |-- author: string (nullable = true)\n",
      " |-- author_flair_css_class: string (nullable = true)\n",
      " |-- author_flair_text: string (nullable = true)\n",
      " |-- body: string (nullable = true)\n",
      " |-- controversiality: long (nullable = true)\n",
      " |-- created_utc: long (nullable = true)\n",
      " |-- distinguished: string (nullable = true)\n",
      " |-- edited: boolean (nullable = true)\n",
      " |-- gilded: long (nullable = true)\n",
      " |-- id: string (nullable = true)\n",
      " |-- link_id: string (nullable = true)\n",
      " |-- parent_id: string (nullable = true)\n",
      " |-- retrieved_on: long (nullable = true)\n",
      " |-- score: long (nullable = true)\n",
      " |-- stickied: boolean (nullable = true)\n",
      " |-- subreddit: string (nullable = true)\n",
      " |-- subreddit_id: string (nullable = true)\n",
      " |-- ups: long (nullable = true)\n",
      "\n"
     ]
    }
   ],
   "source": [
    "data.printSchema()"
   ]
  },
  {
   "cell_type": "code",
   "execution_count": null,
   "id": "e05031b2",
   "metadata": {},
   "outputs": [],
   "source": []
  },
  {
   "cell_type": "code",
   "execution_count": null,
   "id": "4cb9c449",
   "metadata": {},
   "outputs": [],
   "source": []
  },
  {
   "cell_type": "code",
   "execution_count": null,
   "id": "605d17c1",
   "metadata": {},
   "outputs": [],
   "source": []
  },
  {
   "cell_type": "code",
   "execution_count": null,
   "id": "22155d7b",
   "metadata": {},
   "outputs": [],
   "source": [
    "spark_session.stop()"
   ]
  }
 ],
 "metadata": {
  "kernelspec": {
   "display_name": "Python 3 (ipykernel)",
   "language": "python",
   "name": "python3"
  },
  "language_info": {
   "codemirror_mode": {
    "name": "ipython",
    "version": 3
   },
   "file_extension": ".py",
   "mimetype": "text/x-python",
   "name": "python",
   "nbconvert_exporter": "python",
   "pygments_lexer": "ipython3",
   "version": "3.10.6"
  }
 },
 "nbformat": 4,
 "nbformat_minor": 5
}
